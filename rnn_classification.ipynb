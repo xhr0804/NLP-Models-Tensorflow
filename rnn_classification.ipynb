{
  "nbformat": 4,
  "nbformat_minor": 0,
  "metadata": {
    "colab": {
      "name": "rnn-classification.ipynb",
      "provenance": [],
      "authorship_tag": "ABX9TyPPUHFdlKTtw3fEbDWE4QHl",
      "include_colab_link": true
    },
    "kernelspec": {
      "name": "python3",
      "display_name": "Python 3"
    }
  },
  "cells": [
    {
      "cell_type": "markdown",
      "metadata": {
        "id": "view-in-github",
        "colab_type": "text"
      },
      "source": [
        "<a href=\"https://colab.research.google.com/github/xhr0804/NLP-Models-Tensorflow/blob/master/rnn_classification.ipynb\" target=\"_parent\"><img src=\"https://colab.research.google.com/assets/colab-badge.svg\" alt=\"Open In Colab\"/></a>"
      ]
    },
    {
      "cell_type": "code",
      "metadata": {
        "id": "OlUxGUZkU9Jf"
      },
      "source": [
        "!rm -rf NLP-Models-Tensorflow/"
      ],
      "execution_count": 1,
      "outputs": []
    },
    {
      "cell_type": "code",
      "metadata": {
        "colab": {
          "base_uri": "https://localhost:8080/"
        },
        "id": "SQmj2YYivC3o",
        "outputId": "a4bd6a19-0b3b-4a14-d1f3-445eb722ab90"
      },
      "source": [
        "!git clone https://github.com/xhr0804/NLP-Models-Tensorflow.git"
      ],
      "execution_count": 2,
      "outputs": [
        {
          "output_type": "stream",
          "text": [
            "Cloning into 'NLP-Models-Tensorflow'...\n",
            "Host key verification failed.\n",
            "fatal: Could not read from remote repository.\n",
            "\n",
            "Please make sure you have the correct access rights\n",
            "and the repository exists.\n"
          ],
          "name": "stdout"
        }
      ]
    },
    {
      "cell_type": "code",
      "metadata": {
        "colab": {
          "base_uri": "https://localhost:8080/"
        },
        "id": "LdCcHqgRxiMs",
        "outputId": "8efdc25f-10b7-447e-d4e2-806beb8c0b06"
      },
      "source": [
        "%cd NLP-Models-Tensorflow/text-classification/"
      ],
      "execution_count": 3,
      "outputs": [
        {
          "output_type": "stream",
          "text": [
            "/content/NLP-Models-Tensorflow/text-classification\n"
          ],
          "name": "stdout"
        }
      ]
    },
    {
      "cell_type": "code",
      "metadata": {
        "colab": {
          "base_uri": "https://localhost:8080/"
        },
        "id": "uZc7UfrvTKEd",
        "outputId": "553f4132-b737-46b1-85da-de43c82606c5"
      },
      "source": [
        "!git config --global user.email \"344914109@qq.com\"\n",
        "!git config --global user.name \"xhr0804\"\n",
        "!git commit -m \"try\""
      ],
      "execution_count": 10,
      "outputs": [
        {
          "output_type": "stream",
          "text": [
            "On branch master\n",
            "Your branch is ahead of 'origin/master' by 1 commit.\n",
            "  (use \"git push\" to publish your local commits)\n",
            "\n",
            "nothing to commit, working tree clean\n"
          ],
          "name": "stdout"
        }
      ]
    },
    {
      "cell_type": "code",
      "metadata": {
        "colab": {
          "base_uri": "https://localhost:8080/"
        },
        "id": "FS3WHiGsTmpH",
        "outputId": "062cd1ff-098b-45e3-f60f-4f86a4fd2ab6"
      },
      "source": [
        "!git push origin master:master"
      ],
      "execution_count": 11,
      "outputs": [
        {
          "output_type": "stream",
          "text": [
            "fatal: could not read Username for 'https://github.com': No such device or address\n"
          ],
          "name": "stdout"
        }
      ]
    },
    {
      "cell_type": "code",
      "metadata": {
        "id": "Uyttpuj2T43a"
      },
      "source": [
        ""
      ],
      "execution_count": null,
      "outputs": []
    }
  ]
}